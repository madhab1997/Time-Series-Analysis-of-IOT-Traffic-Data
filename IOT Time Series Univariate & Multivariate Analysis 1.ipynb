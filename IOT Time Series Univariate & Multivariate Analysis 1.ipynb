{
 "cells": [
  {
   "cell_type": "code",
   "execution_count": 1,
   "id": "5773759c",
   "metadata": {},
   "outputs": [],
   "source": [
    "import pandas as pd\n",
    "import numpy as np\n",
    "import matplotlib.pyplot as plt\n",
    "%matplotlib inline"
   ]
  },
  {
   "cell_type": "code",
   "execution_count": 2,
   "id": "3c78b1fd",
   "metadata": {},
   "outputs": [
    {
     "name": "stdout",
     "output_type": "stream",
     "text": [
      "C:\\Users\\ADMIN\\Desktop\\PYTHON\\IOT DATA TRAFFIC\n"
     ]
    }
   ],
   "source": [
    "import io\n",
    "%cd \"C:\\\\Users\\\\ADMIN\\\\Desktop\\\\PYTHON\\\\IOT DATA TRAFFIC\""
   ]
  },
  {
   "cell_type": "code",
   "execution_count": 3,
   "id": "50b471a8",
   "metadata": {},
   "outputs": [],
   "source": [
    "trafficdata=pd.read_csv('trafficData158324.csv')"
   ]
  },
  {
   "cell_type": "code",
   "execution_count": 4,
   "id": "9d0115a9",
   "metadata": {},
   "outputs": [
    {
     "data": {
      "text/plain": [
       "(32075, 9)"
      ]
     },
     "execution_count": 4,
     "metadata": {},
     "output_type": "execute_result"
    }
   ],
   "source": [
    "trafficdata.shape"
   ]
  },
  {
   "cell_type": "code",
   "execution_count": 5,
   "id": "f44b38c2",
   "metadata": {},
   "outputs": [
    {
     "data": {
      "text/html": [
       "<div>\n",
       "<style scoped>\n",
       "    .dataframe tbody tr th:only-of-type {\n",
       "        vertical-align: middle;\n",
       "    }\n",
       "\n",
       "    .dataframe tbody tr th {\n",
       "        vertical-align: top;\n",
       "    }\n",
       "\n",
       "    .dataframe thead th {\n",
       "        text-align: right;\n",
       "    }\n",
       "</style>\n",
       "<table border=\"1\" class=\"dataframe\">\n",
       "  <thead>\n",
       "    <tr style=\"text-align: right;\">\n",
       "      <th></th>\n",
       "      <th>status</th>\n",
       "      <th>avgMeasuredTime</th>\n",
       "      <th>avgSpeed</th>\n",
       "      <th>extID</th>\n",
       "      <th>medianMeasuredTime</th>\n",
       "      <th>TIMESTAMP</th>\n",
       "      <th>vehicleCount</th>\n",
       "      <th>_id</th>\n",
       "      <th>REPORT_ID</th>\n",
       "    </tr>\n",
       "  </thead>\n",
       "  <tbody>\n",
       "    <tr>\n",
       "      <th>0</th>\n",
       "      <td>OK</td>\n",
       "      <td>66</td>\n",
       "      <td>56</td>\n",
       "      <td>668</td>\n",
       "      <td>66</td>\n",
       "      <td>2014-02-13T11:30:00</td>\n",
       "      <td>7</td>\n",
       "      <td>190000</td>\n",
       "      <td>158324</td>\n",
       "    </tr>\n",
       "    <tr>\n",
       "      <th>1</th>\n",
       "      <td>OK</td>\n",
       "      <td>69</td>\n",
       "      <td>53</td>\n",
       "      <td>668</td>\n",
       "      <td>69</td>\n",
       "      <td>2014-02-13T11:35:00</td>\n",
       "      <td>5</td>\n",
       "      <td>190449</td>\n",
       "      <td>158324</td>\n",
       "    </tr>\n",
       "    <tr>\n",
       "      <th>2</th>\n",
       "      <td>OK</td>\n",
       "      <td>69</td>\n",
       "      <td>53</td>\n",
       "      <td>668</td>\n",
       "      <td>69</td>\n",
       "      <td>2014-02-13T11:40:00</td>\n",
       "      <td>6</td>\n",
       "      <td>190898</td>\n",
       "      <td>158324</td>\n",
       "    </tr>\n",
       "    <tr>\n",
       "      <th>3</th>\n",
       "      <td>OK</td>\n",
       "      <td>70</td>\n",
       "      <td>52</td>\n",
       "      <td>668</td>\n",
       "      <td>70</td>\n",
       "      <td>2014-02-13T11:45:00</td>\n",
       "      <td>3</td>\n",
       "      <td>191347</td>\n",
       "      <td>158324</td>\n",
       "    </tr>\n",
       "    <tr>\n",
       "      <th>4</th>\n",
       "      <td>OK</td>\n",
       "      <td>64</td>\n",
       "      <td>57</td>\n",
       "      <td>668</td>\n",
       "      <td>64</td>\n",
       "      <td>2014-02-13T11:50:00</td>\n",
       "      <td>6</td>\n",
       "      <td>191796</td>\n",
       "      <td>158324</td>\n",
       "    </tr>\n",
       "  </tbody>\n",
       "</table>\n",
       "</div>"
      ],
      "text/plain": [
       "  status  avgMeasuredTime  avgSpeed  extID  medianMeasuredTime  \\\n",
       "0     OK               66        56    668                  66   \n",
       "1     OK               69        53    668                  69   \n",
       "2     OK               69        53    668                  69   \n",
       "3     OK               70        52    668                  70   \n",
       "4     OK               64        57    668                  64   \n",
       "\n",
       "             TIMESTAMP  vehicleCount     _id  REPORT_ID  \n",
       "0  2014-02-13T11:30:00             7  190000     158324  \n",
       "1  2014-02-13T11:35:00             5  190449     158324  \n",
       "2  2014-02-13T11:40:00             6  190898     158324  \n",
       "3  2014-02-13T11:45:00             3  191347     158324  \n",
       "4  2014-02-13T11:50:00             6  191796     158324  "
      ]
     },
     "execution_count": 5,
     "metadata": {},
     "output_type": "execute_result"
    }
   ],
   "source": [
    "trafficdata.head()"
   ]
  },
  {
   "cell_type": "code",
   "execution_count": 6,
   "id": "f3ded8ac",
   "metadata": {},
   "outputs": [],
   "source": [
    "# Univariate Time Series \n",
    "traffic=trafficdata[['TIMESTAMP','vehicleCount']]"
   ]
  },
  {
   "cell_type": "code",
   "execution_count": 7,
   "id": "5c77483c",
   "metadata": {},
   "outputs": [
    {
     "data": {
      "text/html": [
       "<div>\n",
       "<style scoped>\n",
       "    .dataframe tbody tr th:only-of-type {\n",
       "        vertical-align: middle;\n",
       "    }\n",
       "\n",
       "    .dataframe tbody tr th {\n",
       "        vertical-align: top;\n",
       "    }\n",
       "\n",
       "    .dataframe thead th {\n",
       "        text-align: right;\n",
       "    }\n",
       "</style>\n",
       "<table border=\"1\" class=\"dataframe\">\n",
       "  <thead>\n",
       "    <tr style=\"text-align: right;\">\n",
       "      <th></th>\n",
       "      <th>TIMESTAMP</th>\n",
       "      <th>vehicleCount</th>\n",
       "    </tr>\n",
       "  </thead>\n",
       "  <tbody>\n",
       "    <tr>\n",
       "      <th>0</th>\n",
       "      <td>2014-02-13T11:30:00</td>\n",
       "      <td>7</td>\n",
       "    </tr>\n",
       "    <tr>\n",
       "      <th>1</th>\n",
       "      <td>2014-02-13T11:35:00</td>\n",
       "      <td>5</td>\n",
       "    </tr>\n",
       "    <tr>\n",
       "      <th>2</th>\n",
       "      <td>2014-02-13T11:40:00</td>\n",
       "      <td>6</td>\n",
       "    </tr>\n",
       "    <tr>\n",
       "      <th>3</th>\n",
       "      <td>2014-02-13T11:45:00</td>\n",
       "      <td>3</td>\n",
       "    </tr>\n",
       "    <tr>\n",
       "      <th>4</th>\n",
       "      <td>2014-02-13T11:50:00</td>\n",
       "      <td>6</td>\n",
       "    </tr>\n",
       "  </tbody>\n",
       "</table>\n",
       "</div>"
      ],
      "text/plain": [
       "             TIMESTAMP  vehicleCount\n",
       "0  2014-02-13T11:30:00             7\n",
       "1  2014-02-13T11:35:00             5\n",
       "2  2014-02-13T11:40:00             6\n",
       "3  2014-02-13T11:45:00             3\n",
       "4  2014-02-13T11:50:00             6"
      ]
     },
     "execution_count": 7,
     "metadata": {},
     "output_type": "execute_result"
    }
   ],
   "source": [
    "traffic.head()"
   ]
  },
  {
   "cell_type": "code",
   "execution_count": 8,
   "id": "879d0b27",
   "metadata": {},
   "outputs": [
    {
     "data": {
      "text/plain": [
       "TIMESTAMP       object\n",
       "vehicleCount     int64\n",
       "dtype: object"
      ]
     },
     "execution_count": 8,
     "metadata": {},
     "output_type": "execute_result"
    }
   ],
   "source": [
    "traffic.dtypes"
   ]
  },
  {
   "cell_type": "code",
   "execution_count": 9,
   "id": "06111ff1",
   "metadata": {},
   "outputs": [
    {
     "name": "stderr",
     "output_type": "stream",
     "text": [
      "C:\\ProgramData\\Anaconda3\\lib\\site-packages\\pandas\\core\\generic.py:5516: SettingWithCopyWarning: \n",
      "A value is trying to be set on a copy of a slice from a DataFrame.\n",
      "Try using .loc[row_indexer,col_indexer] = value instead\n",
      "\n",
      "See the caveats in the documentation: https://pandas.pydata.org/pandas-docs/stable/user_guide/indexing.html#returning-a-view-versus-a-copy\n",
      "  self[name] = value\n"
     ]
    }
   ],
   "source": [
    "# Convert TIMESTAMP into datetime[ns] format\n",
    "traffic.TIMESTAMP=pd.to_datetime(traffic.TIMESTAMP,errors=\"coerce\")"
   ]
  },
  {
   "cell_type": "code",
   "execution_count": 10,
   "id": "a5712f80",
   "metadata": {},
   "outputs": [],
   "source": [
    "# Resample time frequency\n",
    "hourlytraffic=traffic.resample(\"60Min\",on='TIMESTAMP').sum()"
   ]
  },
  {
   "cell_type": "code",
   "execution_count": 11,
   "id": "a5b714e0",
   "metadata": {},
   "outputs": [
    {
     "data": {
      "text/html": [
       "<div>\n",
       "<style scoped>\n",
       "    .dataframe tbody tr th:only-of-type {\n",
       "        vertical-align: middle;\n",
       "    }\n",
       "\n",
       "    .dataframe tbody tr th {\n",
       "        vertical-align: top;\n",
       "    }\n",
       "\n",
       "    .dataframe thead th {\n",
       "        text-align: right;\n",
       "    }\n",
       "</style>\n",
       "<table border=\"1\" class=\"dataframe\">\n",
       "  <thead>\n",
       "    <tr style=\"text-align: right;\">\n",
       "      <th></th>\n",
       "      <th>vehicleCount</th>\n",
       "    </tr>\n",
       "    <tr>\n",
       "      <th>TIMESTAMP</th>\n",
       "      <th></th>\n",
       "    </tr>\n",
       "  </thead>\n",
       "  <tbody>\n",
       "    <tr>\n",
       "      <th>2014-02-13 11:00:00</th>\n",
       "      <td>36</td>\n",
       "    </tr>\n",
       "    <tr>\n",
       "      <th>2014-02-13 12:00:00</th>\n",
       "      <td>124</td>\n",
       "    </tr>\n",
       "    <tr>\n",
       "      <th>2014-02-13 13:00:00</th>\n",
       "      <td>92</td>\n",
       "    </tr>\n",
       "    <tr>\n",
       "      <th>2014-02-13 14:00:00</th>\n",
       "      <td>110</td>\n",
       "    </tr>\n",
       "    <tr>\n",
       "      <th>2014-02-13 15:00:00</th>\n",
       "      <td>91</td>\n",
       "    </tr>\n",
       "  </tbody>\n",
       "</table>\n",
       "</div>"
      ],
      "text/plain": [
       "                     vehicleCount\n",
       "TIMESTAMP                        \n",
       "2014-02-13 11:00:00            36\n",
       "2014-02-13 12:00:00           124\n",
       "2014-02-13 13:00:00            92\n",
       "2014-02-13 14:00:00           110\n",
       "2014-02-13 15:00:00            91"
      ]
     },
     "execution_count": 11,
     "metadata": {},
     "output_type": "execute_result"
    }
   ],
   "source": [
    "hourlytraffic.head() # Total Vehicles going per hour"
   ]
  },
  {
   "cell_type": "code",
   "execution_count": 12,
   "id": "8ea7c2cc",
   "metadata": {},
   "outputs": [],
   "source": [
    "dailytraffic=traffic.resample('d',on='TIMESTAMP').sum()"
   ]
  },
  {
   "cell_type": "code",
   "execution_count": 13,
   "id": "5e954918",
   "metadata": {},
   "outputs": [
    {
     "data": {
      "text/html": [
       "<div>\n",
       "<style scoped>\n",
       "    .dataframe tbody tr th:only-of-type {\n",
       "        vertical-align: middle;\n",
       "    }\n",
       "\n",
       "    .dataframe tbody tr th {\n",
       "        vertical-align: top;\n",
       "    }\n",
       "\n",
       "    .dataframe thead th {\n",
       "        text-align: right;\n",
       "    }\n",
       "</style>\n",
       "<table border=\"1\" class=\"dataframe\">\n",
       "  <thead>\n",
       "    <tr style=\"text-align: right;\">\n",
       "      <th></th>\n",
       "      <th>vehicleCount</th>\n",
       "    </tr>\n",
       "    <tr>\n",
       "      <th>TIMESTAMP</th>\n",
       "      <th></th>\n",
       "    </tr>\n",
       "  </thead>\n",
       "  <tbody>\n",
       "    <tr>\n",
       "      <th>2014-02-13</th>\n",
       "      <td>625</td>\n",
       "    </tr>\n",
       "    <tr>\n",
       "      <th>2014-02-14</th>\n",
       "      <td>1390</td>\n",
       "    </tr>\n",
       "    <tr>\n",
       "      <th>2014-02-15</th>\n",
       "      <td>501</td>\n",
       "    </tr>\n",
       "    <tr>\n",
       "      <th>2014-02-16</th>\n",
       "      <td>440</td>\n",
       "    </tr>\n",
       "    <tr>\n",
       "      <th>2014-02-17</th>\n",
       "      <td>1492</td>\n",
       "    </tr>\n",
       "  </tbody>\n",
       "</table>\n",
       "</div>"
      ],
      "text/plain": [
       "            vehicleCount\n",
       "TIMESTAMP               \n",
       "2014-02-13           625\n",
       "2014-02-14          1390\n",
       "2014-02-15           501\n",
       "2014-02-16           440\n",
       "2014-02-17          1492"
      ]
     },
     "execution_count": 13,
     "metadata": {},
     "output_type": "execute_result"
    }
   ],
   "source": [
    "dailytraffic.head()"
   ]
  },
  {
   "cell_type": "markdown",
   "id": "49a2dfdc",
   "metadata": {},
   "source": [
    "# Indexing of Date inplace of Row Numbers will convert data into Time\n",
    "# Series"
   ]
  },
  {
   "cell_type": "code",
   "execution_count": 14,
   "id": "8d2f017d",
   "metadata": {},
   "outputs": [
    {
     "data": {
      "text/plain": [
       "<AxesSubplot:xlabel='TIMESTAMP'>"
      ]
     },
     "execution_count": 14,
     "metadata": {},
     "output_type": "execute_result"
    },
    {
     "data": {
      "image/png": "[encoded data removed]",
      "text/plain": [
       "<Figure size 432x288 with 1 Axes>"
      ]
     },
     "metadata": {
      "needs_background": "light"
     },
     "output_type": "display_data"
    }
   ],
   "source": [
    "dailytraffic.plot(kind='line')"
   ]
  },
  {
   "cell_type": "code",
   "execution_count": 15,
   "id": "d2674134",
   "metadata": {},
   "outputs": [],
   "source": [
    "monthlytraffic=traffic.resample('m',on='TIMESTAMP').sum()"
   ]
  },
  {
   "cell_type": "code",
   "execution_count": 16,
   "id": "3f5b2307",
   "metadata": {},
   "outputs": [
    {
     "data": {
      "text/html": [
       "<div>\n",
       "<style scoped>\n",
       "    .dataframe tbody tr th:only-of-type {\n",
       "        vertical-align: middle;\n",
       "    }\n",
       "\n",
       "    .dataframe tbody tr th {\n",
       "        vertical-align: top;\n",
       "    }\n",
       "\n",
       "    .dataframe thead th {\n",
       "        text-align: right;\n",
       "    }\n",
       "</style>\n",
       "<table border=\"1\" class=\"dataframe\">\n",
       "  <thead>\n",
       "    <tr style=\"text-align: right;\">\n",
       "      <th></th>\n",
       "      <th>vehicleCount</th>\n",
       "    </tr>\n",
       "    <tr>\n",
       "      <th>TIMESTAMP</th>\n",
       "      <th></th>\n",
       "    </tr>\n",
       "  </thead>\n",
       "  <tbody>\n",
       "    <tr>\n",
       "      <th>2014-02-28</th>\n",
       "      <td>19802</td>\n",
       "    </tr>\n",
       "    <tr>\n",
       "      <th>2014-03-31</th>\n",
       "      <td>36947</td>\n",
       "    </tr>\n",
       "    <tr>\n",
       "      <th>2014-04-30</th>\n",
       "      <td>35730</td>\n",
       "    </tr>\n",
       "    <tr>\n",
       "      <th>2014-05-31</th>\n",
       "      <td>37806</td>\n",
       "    </tr>\n",
       "    <tr>\n",
       "      <th>2014-06-30</th>\n",
       "      <td>7764</td>\n",
       "    </tr>\n",
       "  </tbody>\n",
       "</table>\n",
       "</div>"
      ],
      "text/plain": [
       "            vehicleCount\n",
       "TIMESTAMP               \n",
       "2014-02-28         19802\n",
       "2014-03-31         36947\n",
       "2014-04-30         35730\n",
       "2014-05-31         37806\n",
       "2014-06-30          7764"
      ]
     },
     "execution_count": 16,
     "metadata": {},
     "output_type": "execute_result"
    }
   ],
   "source": [
    "monthlytraffic.head()"
   ]
  },
  {
   "cell_type": "code",
   "execution_count": 17,
   "id": "961b7543",
   "metadata": {},
   "outputs": [],
   "source": [
    "from statsmodels.tsa.stattools import adfuller"
   ]
  },
  {
   "cell_type": "code",
   "execution_count": 18,
   "id": "d6b3756e",
   "metadata": {},
   "outputs": [
    {
     "data": {
      "text/plain": [
       "(-0.7789012626624569,\n",
       " 0.825241240540309,\n",
       " 13,\n",
       " 103,\n",
       " {'1%': -3.4954932834550623,\n",
       "  '5%': -2.8900369024285117,\n",
       "  '10%': -2.5819706975209726},\n",
       " 1508.3122250343624)"
      ]
     },
     "execution_count": 18,
     "metadata": {},
     "output_type": "execute_result"
    }
   ],
   "source": [
    "adfuller(dailytraffic)\n",
    "# Since p-value=0.8252412405403095 is greater than 0.05, Fail to Reject \n",
    "# Null or Accept Null"
   ]
  },
  {
   "cell_type": "code",
   "execution_count": 19,
   "id": "9de3c1de",
   "metadata": {},
   "outputs": [],
   "source": [
    "# To bring data to stationary we must do differencing or discrete difference\n",
    "dailytrafficdiff=dailytraffic.diff()"
   ]
  },
  {
   "cell_type": "code",
   "execution_count": 20,
   "id": "409edf16",
   "metadata": {},
   "outputs": [
    {
     "data": {
      "text/plain": [
       "<AxesSubplot:xlabel='TIMESTAMP'>"
      ]
     },
     "execution_count": 20,
     "metadata": {},
     "output_type": "execute_result"
    },
    {
     "data": {
      "image/png": "[encoded data removed]",
      "text/plain": [
       "<Figure size 432x288 with 1 Axes>"
      ]
     },
     "metadata": {
      "needs_background": "light"
     },
     "output_type": "display_data"
    }
   ],
   "source": [
    "dailytrafficdiff.plot(kind=\"line\")"
   ]
  },
  {
   "cell_type": "code",
   "execution_count": 21,
   "id": "2a49b259",
   "metadata": {},
   "outputs": [],
   "source": [
    "dailytrafficdiff=dailytrafficdiff.dropna()"
   ]
  },
  {
   "cell_type": "code",
   "execution_count": 22,
   "id": "537b7b3d",
   "metadata": {},
   "outputs": [
    {
     "data": {
      "text/plain": [
       "(-5.197121179772535,\n",
       " 8.911849241206393e-06,\n",
       " 12,\n",
       " 103,\n",
       " {'1%': -3.4954932834550623,\n",
       "  '5%': -2.8900369024285117,\n",
       "  '10%': -2.5819706975209726},\n",
       " 1492.7268606865944)"
      ]
     },
     "execution_count": 22,
     "metadata": {},
     "output_type": "execute_result"
    }
   ],
   "source": [
    "adfuller(dailytrafficdiff)\n",
    "# Since p-value=8.911849241206393e-06 is less than 0.05, Reject Null"
   ]
  },
  {
   "cell_type": "code",
   "execution_count": 23,
   "id": "5987550c",
   "metadata": {},
   "outputs": [],
   "source": [
    "from statsmodels.tsa.seasonal import seasonal_decompose"
   ]
  },
  {
   "cell_type": "code",
   "execution_count": 24,
   "id": "7066857d",
   "metadata": {},
   "outputs": [
    {
     "data": {
      "image/png": "[encoded data removed]",
      "text/plain": [
       "<Figure size 432x288 with 4 Axes>"
      ]
     },
     "execution_count": 24,
     "metadata": {},
     "output_type": "execute_result"
    },
    {
     "data": {
      "image/png": "[encoded data removed]",
      "text/plain": [
       "<Figure size 432x288 with 4 Axes>"
      ]
     },
     "metadata": {
      "needs_background": "light"
     },
     "output_type": "display_data"
    }
   ],
   "source": [
    "seasonal_decompose(dailytrafficdiff).plot()\n",
    "# seasonal plot if sesaonality is there pattern repeats at fixed time\n",
    "# interval"
   ]
  },
  {
   "cell_type": "code",
   "execution_count": 25,
   "id": "2ac2cfd1",
   "metadata": {},
   "outputs": [],
   "source": [
    "from statsmodels.graphics.tsaplots import plot_acf,plot_pacf"
   ]
  },
  {
   "cell_type": "code",
   "execution_count": 26,
   "id": "ca8b2119",
   "metadata": {},
   "outputs": [
    {
     "data": {
      "image/png": "[encoded data removed]",
      "text/plain": [
       "<Figure size 432x288 with 1 Axes>"
      ]
     },
     "execution_count": 26,
     "metadata": {},
     "output_type": "execute_result"
    },
    {
     "data": {
      "image/png": "[encoded data removed]",
      "text/plain": [
       "<Figure size 432x288 with 1 Axes>"
      ]
     },
     "metadata": {
      "needs_background": "light"
     },
     "output_type": "display_data"
    }
   ],
   "source": [
    "plot_acf(dailytrafficdiff,lags=30) # q=1 ## the 1st point which comes to the blusih area here it is 1 , so q=1"
   ]
  },
  {
   "cell_type": "code",
   "execution_count": 27,
   "id": "4a25e395",
   "metadata": {},
   "outputs": [
    {
     "data": {
      "image/png": "[encoded data removed]",
      "text/plain": [
       "<Figure size 432x288 with 1 Axes>"
      ]
     },
     "execution_count": 27,
     "metadata": {},
     "output_type": "execute_result"
    },
    {
     "data": {
      "image/png": "[encoded data removed]",
      "text/plain": [
       "<Figure size 432x288 with 1 Axes>"
      ]
     },
     "metadata": {
      "needs_background": "light"
     },
     "output_type": "display_data"
    }
   ],
   "source": [
    "plot_pacf(dailytrafficdiff,lags=30) # p=1"
   ]
  },
  {
   "cell_type": "code",
   "execution_count": 28,
   "id": "486d5933",
   "metadata": {},
   "outputs": [],
   "source": [
    "# Auto ARIMA function will try all combinations of p,d,q values from\n",
    "# 0,0,0 till 5,2,5. And lag order that has the least AIC will be final\n",
    "# model."
   ]
  },
  {
   "cell_type": "code",
   "execution_count": 29,
   "id": "a4557117",
   "metadata": {},
   "outputs": [
    {
     "name": "stdout",
     "output_type": "stream",
     "text": [
      "Requirement already satisfied: pmdarima in c:\\programdata\\anaconda3\\lib\\site-packages (1.8.4)\n",
      "Requirement already satisfied: urllib3 in c:\\programdata\\anaconda3\\lib\\site-packages (from pmdarima) (1.26.7)\n",
      "Requirement already satisfied: scikit-learn>=0.22 in c:\\programdata\\anaconda3\\lib\\site-packages (from pmdarima) (0.24.2)\n",
      "Requirement already satisfied: scipy>=1.3.2 in c:\\programdata\\anaconda3\\lib\\site-packages (from pmdarima) (1.7.1)\n",
      "Requirement already satisfied: numpy>=1.19.3 in c:\\programdata\\anaconda3\\lib\\site-packages (from pmdarima) (1.20.3)\n",
      "Requirement already satisfied: Cython!=0.29.18,>=0.29 in c:\\programdata\\anaconda3\\lib\\site-packages (from pmdarima) (0.29.24)\n",
      "Requirement already satisfied: statsmodels!=0.12.0,>=0.11 in c:\\programdata\\anaconda3\\lib\\site-packages (from pmdarima) (0.12.2)\n",
      "Requirement already satisfied: joblib>=0.11 in c:\\programdata\\anaconda3\\lib\\site-packages (from pmdarima) (1.1.0)\n",
      "Requirement already satisfied: setuptools!=50.0.0,>=38.6.0 in c:\\programdata\\anaconda3\\lib\\site-packages (from pmdarima) (58.0.4)\n",
      "Requirement already satisfied: pandas>=0.19 in c:\\programdata\\anaconda3\\lib\\site-packages (from pmdarima) (1.3.4)\n",
      "Requirement already satisfied: pytz>=2017.3 in c:\\programdata\\anaconda3\\lib\\site-packages (from pandas>=0.19->pmdarima) (2021.3)\n",
      "Requirement already satisfied: python-dateutil>=2.7.3 in c:\\programdata\\anaconda3\\lib\\site-packages (from pandas>=0.19->pmdarima) (2.8.2)\n",
      "Requirement already satisfied: six>=1.5 in c:\\programdata\\anaconda3\\lib\\site-packages (from python-dateutil>=2.7.3->pandas>=0.19->pmdarima) (1.16.0)\n",
      "Requirement already satisfied: threadpoolctl>=2.0.0 in c:\\programdata\\anaconda3\\lib\\site-packages (from scikit-learn>=0.22->pmdarima) (2.2.0)\n",
      "Requirement already satisfied: patsy>=0.5 in c:\\programdata\\anaconda3\\lib\\site-packages (from statsmodels!=0.12.0,>=0.11->pmdarima) (0.5.2)\n"
     ]
    },
    {
     "name": "stderr",
     "output_type": "stream",
     "text": [
      "WARNING: Ignoring invalid distribution -ikit-learn (c:\\programdata\\anaconda3\\lib\\site-packages)\n",
      "WARNING: Ignoring invalid distribution -6ikit-learn (c:\\programdata\\anaconda3\\lib\\site-packages)\n",
      "WARNING: Ignoring invalid distribution -5ikit-learn (c:\\programdata\\anaconda3\\lib\\site-packages)\n",
      "WARNING: Ignoring invalid distribution -4ikit-learn (c:\\programdata\\anaconda3\\lib\\site-packages)\n",
      "WARNING: Ignoring invalid distribution -3ikit-learn (c:\\programdata\\anaconda3\\lib\\site-packages)\n",
      "WARNING: Ignoring invalid distribution -2ikit-learn (c:\\programdata\\anaconda3\\lib\\site-packages)\n",
      "WARNING: Ignoring invalid distribution -1ikit-learn (c:\\programdata\\anaconda3\\lib\\site-packages)\n",
      "WARNING: Ignoring invalid distribution -ikit-learn (c:\\programdata\\anaconda3\\lib\\site-packages)\n",
      "WARNING: Ignoring invalid distribution -0ikit-learn (c:\\programdata\\anaconda3\\lib\\site-packages)\n",
      "WARNING: Ignoring invalid distribution - (c:\\programdata\\anaconda3\\lib\\site-packages)\n",
      "WARNING: Ignoring invalid distribution -cikit-learn (c:\\programdata\\anaconda3\\lib\\site-packages)\n",
      "WARNING: Ignoring invalid distribution -ikit-learn (c:\\programdata\\anaconda3\\lib\\site-packages)\n",
      "WARNING: Ignoring invalid distribution -6ikit-learn (c:\\programdata\\anaconda3\\lib\\site-packages)\n",
      "WARNING: Ignoring invalid distribution -5ikit-learn (c:\\programdata\\anaconda3\\lib\\site-packages)\n",
      "WARNING: Ignoring invalid distribution -4ikit-learn (c:\\programdata\\anaconda3\\lib\\site-packages)\n",
      "WARNING: Ignoring invalid distribution -3ikit-learn (c:\\programdata\\anaconda3\\lib\\site-packages)\n",
      "WARNING: Ignoring invalid distribution -2ikit-learn (c:\\programdata\\anaconda3\\lib\\site-packages)\n",
      "WARNING: Ignoring invalid distribution -1ikit-learn (c:\\programdata\\anaconda3\\lib\\site-packages)\n",
      "WARNING: Ignoring invalid distribution -ikit-learn (c:\\programdata\\anaconda3\\lib\\site-packages)\n",
      "WARNING: Ignoring invalid distribution -0ikit-learn (c:\\programdata\\anaconda3\\lib\\site-packages)\n",
      "WARNING: Ignoring invalid distribution - (c:\\programdata\\anaconda3\\lib\\site-packages)\n",
      "WARNING: Ignoring invalid distribution -cikit-learn (c:\\programdata\\anaconda3\\lib\\site-packages)\n",
      "WARNING: Ignoring invalid distribution -ikit-learn (c:\\programdata\\anaconda3\\lib\\site-packages)\n",
      "WARNING: Ignoring invalid distribution -6ikit-learn (c:\\programdata\\anaconda3\\lib\\site-packages)\n",
      "WARNING: Ignoring invalid distribution -5ikit-learn (c:\\programdata\\anaconda3\\lib\\site-packages)\n",
      "WARNING: Ignoring invalid distribution -4ikit-learn (c:\\programdata\\anaconda3\\lib\\site-packages)\n",
      "WARNING: Ignoring invalid distribution -3ikit-learn (c:\\programdata\\anaconda3\\lib\\site-packages)\n",
      "WARNING: Ignoring invalid distribution -2ikit-learn (c:\\programdata\\anaconda3\\lib\\site-packages)\n",
      "WARNING: Ignoring invalid distribution -1ikit-learn (c:\\programdata\\anaconda3\\lib\\site-packages)\n",
      "WARNING: Ignoring invalid distribution -ikit-learn (c:\\programdata\\anaconda3\\lib\\site-packages)\n",
      "WARNING: Ignoring invalid distribution -0ikit-learn (c:\\programdata\\anaconda3\\lib\\site-packages)\n",
      "WARNING: Ignoring invalid distribution - (c:\\programdata\\anaconda3\\lib\\site-packages)\n",
      "WARNING: Ignoring invalid distribution -cikit-learn (c:\\programdata\\anaconda3\\lib\\site-packages)\n",
      "WARNING: Ignoring invalid distribution -ikit-learn (c:\\programdata\\anaconda3\\lib\\site-packages)\n",
      "WARNING: Ignoring invalid distribution -6ikit-learn (c:\\programdata\\anaconda3\\lib\\site-packages)\n",
      "WARNING: Ignoring invalid distribution -5ikit-learn (c:\\programdata\\anaconda3\\lib\\site-packages)\n",
      "WARNING: Ignoring invalid distribution -4ikit-learn (c:\\programdata\\anaconda3\\lib\\site-packages)\n",
      "WARNING: Ignoring invalid distribution -3ikit-learn (c:\\programdata\\anaconda3\\lib\\site-packages)\n",
      "WARNING: Ignoring invalid distribution -2ikit-learn (c:\\programdata\\anaconda3\\lib\\site-packages)\n",
      "WARNING: Ignoring invalid distribution -1ikit-learn (c:\\programdata\\anaconda3\\lib\\site-packages)\n",
      "WARNING: Ignoring invalid distribution -ikit-learn (c:\\programdata\\anaconda3\\lib\\site-packages)\n",
      "WARNING: Ignoring invalid distribution -0ikit-learn (c:\\programdata\\anaconda3\\lib\\site-packages)\n",
      "WARNING: Ignoring invalid distribution - (c:\\programdata\\anaconda3\\lib\\site-packages)\n",
      "WARNING: Ignoring invalid distribution -cikit-learn (c:\\programdata\\anaconda3\\lib\\site-packages)\n",
      "WARNING: Ignoring invalid distribution -ikit-learn (c:\\programdata\\anaconda3\\lib\\site-packages)\n",
      "WARNING: Ignoring invalid distribution -6ikit-learn (c:\\programdata\\anaconda3\\lib\\site-packages)\n",
      "WARNING: Ignoring invalid distribution -5ikit-learn (c:\\programdata\\anaconda3\\lib\\site-packages)\n",
      "WARNING: Ignoring invalid distribution -4ikit-learn (c:\\programdata\\anaconda3\\lib\\site-packages)\n",
      "WARNING: Ignoring invalid distribution -3ikit-learn (c:\\programdata\\anaconda3\\lib\\site-packages)\n",
      "WARNING: Ignoring invalid distribution -2ikit-learn (c:\\programdata\\anaconda3\\lib\\site-packages)\n",
      "WARNING: Ignoring invalid distribution -1ikit-learn (c:\\programdata\\anaconda3\\lib\\site-packages)\n",
      "WARNING: Ignoring invalid distribution -ikit-learn (c:\\programdata\\anaconda3\\lib\\site-packages)\n",
      "WARNING: Ignoring invalid distribution -0ikit-learn (c:\\programdata\\anaconda3\\lib\\site-packages)\n",
      "WARNING: Ignoring invalid distribution - (c:\\programdata\\anaconda3\\lib\\site-packages)\n",
      "WARNING: Ignoring invalid distribution -cikit-learn (c:\\programdata\\anaconda3\\lib\\site-packages)\n",
      "WARNING: Ignoring invalid distribution -ikit-learn (c:\\programdata\\anaconda3\\lib\\site-packages)\n",
      "WARNING: Ignoring invalid distribution -6ikit-learn (c:\\programdata\\anaconda3\\lib\\site-packages)\n",
      "WARNING: Ignoring invalid distribution -5ikit-learn (c:\\programdata\\anaconda3\\lib\\site-packages)\n",
      "WARNING: Ignoring invalid distribution -4ikit-learn (c:\\programdata\\anaconda3\\lib\\site-packages)\n",
      "WARNING: Ignoring invalid distribution -3ikit-learn (c:\\programdata\\anaconda3\\lib\\site-packages)\n",
      "WARNING: Ignoring invalid distribution -2ikit-learn (c:\\programdata\\anaconda3\\lib\\site-packages)\n",
      "WARNING: Ignoring invalid distribution -1ikit-learn (c:\\programdata\\anaconda3\\lib\\site-packages)\n",
      "WARNING: Ignoring invalid distribution -ikit-learn (c:\\programdata\\anaconda3\\lib\\site-packages)\n",
      "WARNING: Ignoring invalid distribution -0ikit-learn (c:\\programdata\\anaconda3\\lib\\site-packages)\n",
      "WARNING: Ignoring invalid distribution - (c:\\programdata\\anaconda3\\lib\\site-packages)\n",
      "WARNING: Ignoring invalid distribution -cikit-learn (c:\\programdata\\anaconda3\\lib\\site-packages)\n"
     ]
    }
   ],
   "source": [
    "!pip install pmdarima"
   ]
  },
  {
   "cell_type": "code",
   "execution_count": 30,
   "id": "a56e355b",
   "metadata": {},
   "outputs": [],
   "source": [
    "from pmdarima import auto_arima"
   ]
  },
  {
   "cell_type": "code",
   "execution_count": 31,
   "id": "0fe95888",
   "metadata": {},
   "outputs": [],
   "source": [
    "trafficarima=auto_arima(dailytrafficdiff,start_p=0,start_q=0,d=1,stationary=True,m=7)\n",
    "# m=7 i.e indicates daily data"
   ]
  },
  {
   "cell_type": "code",
   "execution_count": 32,
   "id": "ded438a0",
   "metadata": {},
   "outputs": [
    {
     "data": {
      "text/html": [
       "<table class=\"simpletable\">\n",
       "<caption>SARIMAX Results</caption>\n",
       "<tr>\n",
       "  <th>Dep. Variable:</th>                  <td>y</td>                <th>  No. Observations:  </th>    <td>116</td>  \n",
       "</tr>\n",
       "<tr>\n",
       "  <th>Model:</th>           <td>SARIMAX(5, 0, 0)x(1, 0, [1], 7)</td> <th>  Log Likelihood     </th> <td>-837.300</td>\n",
       "</tr>\n",
       "<tr>\n",
       "  <th>Date:</th>                   <td>Mon, 07 Feb 2022</td>         <th>  AIC                </th> <td>1692.600</td>\n",
       "</tr>\n",
       "<tr>\n",
       "  <th>Time:</th>                       <td>20:32:09</td>             <th>  BIC                </th> <td>1717.382</td>\n",
       "</tr>\n",
       "<tr>\n",
       "  <th>Sample:</th>                         <td>0</td>                <th>  HQIC               </th> <td>1702.660</td>\n",
       "</tr>\n",
       "<tr>\n",
       "  <th></th>                             <td> - 116</td>              <th>                     </th>     <td> </td>   \n",
       "</tr>\n",
       "<tr>\n",
       "  <th>Covariance Type:</th>               <td>opg</td>               <th>                     </th>     <td> </td>   \n",
       "</tr>\n",
       "</table>\n",
       "<table class=\"simpletable\">\n",
       "<tr>\n",
       "      <td></td>         <th>coef</th>     <th>std err</th>      <th>z</th>      <th>P>|z|</th>  <th>[0.025</th>    <th>0.975]</th>  \n",
       "</tr>\n",
       "<tr>\n",
       "  <th>intercept</th> <td>   -2.3542</td> <td>    3.261</td> <td>   -0.722</td> <td> 0.470</td> <td>   -8.746</td> <td>    4.038</td>\n",
       "</tr>\n",
       "<tr>\n",
       "  <th>ar.L1</th>     <td>   -0.4533</td> <td>    0.095</td> <td>   -4.797</td> <td> 0.000</td> <td>   -0.639</td> <td>   -0.268</td>\n",
       "</tr>\n",
       "<tr>\n",
       "  <th>ar.L2</th>     <td>   -0.4532</td> <td>    0.109</td> <td>   -4.156</td> <td> 0.000</td> <td>   -0.667</td> <td>   -0.239</td>\n",
       "</tr>\n",
       "<tr>\n",
       "  <th>ar.L3</th>     <td>   -0.3110</td> <td>    0.140</td> <td>   -2.213</td> <td> 0.027</td> <td>   -0.586</td> <td>   -0.036</td>\n",
       "</tr>\n",
       "<tr>\n",
       "  <th>ar.L4</th>     <td>    0.0232</td> <td>    0.110</td> <td>    0.211</td> <td> 0.833</td> <td>   -0.192</td> <td>    0.238</td>\n",
       "</tr>\n",
       "<tr>\n",
       "  <th>ar.L5</th>     <td>   -0.2029</td> <td>    0.127</td> <td>   -1.594</td> <td> 0.111</td> <td>   -0.452</td> <td>    0.047</td>\n",
       "</tr>\n",
       "<tr>\n",
       "  <th>ar.S.L7</th>   <td>    0.9834</td> <td>    0.020</td> <td>   49.954</td> <td> 0.000</td> <td>    0.945</td> <td>    1.022</td>\n",
       "</tr>\n",
       "<tr>\n",
       "  <th>ma.S.L7</th>   <td>   -0.7777</td> <td>    0.112</td> <td>   -6.963</td> <td> 0.000</td> <td>   -0.997</td> <td>   -0.559</td>\n",
       "</tr>\n",
       "<tr>\n",
       "  <th>sigma2</th>    <td> 1.026e+05</td> <td> 1.06e+04</td> <td>    9.727</td> <td> 0.000</td> <td> 8.19e+04</td> <td> 1.23e+05</td>\n",
       "</tr>\n",
       "</table>\n",
       "<table class=\"simpletable\">\n",
       "<tr>\n",
       "  <th>Ljung-Box (L1) (Q):</th>     <td>0.01</td> <th>  Jarque-Bera (JB):  </th> <td>53.62</td>\n",
       "</tr>\n",
       "<tr>\n",
       "  <th>Prob(Q):</th>                <td>0.91</td> <th>  Prob(JB):          </th> <td>0.00</td> \n",
       "</tr>\n",
       "<tr>\n",
       "  <th>Heteroskedasticity (H):</th> <td>2.39</td> <th>  Skew:              </th> <td>-1.04</td>\n",
       "</tr>\n",
       "<tr>\n",
       "  <th>Prob(H) (two-sided):</th>    <td>0.01</td> <th>  Kurtosis:          </th> <td>5.60</td> \n",
       "</tr>\n",
       "</table><br/><br/>Warnings:<br/>[1] Covariance matrix calculated using the outer product of gradients (complex-step)."
      ],
      "text/plain": [
       "<class 'statsmodels.iolib.summary.Summary'>\n",
       "\"\"\"\n",
       "                                      SARIMAX Results                                      \n",
       "===========================================================================================\n",
       "Dep. Variable:                                   y   No. Observations:                  116\n",
       "Model:             SARIMAX(5, 0, 0)x(1, 0, [1], 7)   Log Likelihood                -837.300\n",
       "Date:                             Mon, 07 Feb 2022   AIC                           1692.600\n",
       "Time:                                     20:32:09   BIC                           1717.382\n",
       "Sample:                                          0   HQIC                          1702.660\n",
       "                                             - 116                                         \n",
       "Covariance Type:                               opg                                         \n",
       "==============================================================================\n",
       "                 coef    std err          z      P>|z|      [0.025      0.975]\n",
       "------------------------------------------------------------------------------\n",
       "intercept     -2.3542      3.261     -0.722      0.470      -8.746       4.038\n",
       "ar.L1         -0.4533      0.095     -4.797      0.000      -0.639      -0.268\n",
       "ar.L2         -0.4532      0.109     -4.156      0.000      -0.667      -0.239\n",
       "ar.L3         -0.3110      0.140     -2.213      0.027      -0.586      -0.036\n",
       "ar.L4          0.0232      0.110      0.211      0.833      -0.192       0.238\n",
       "ar.L5         -0.2029      0.127     -1.594      0.111      -0.452       0.047\n",
       "ar.S.L7        0.9834      0.020     49.954      0.000       0.945       1.022\n",
       "ma.S.L7       -0.7777      0.112     -6.963      0.000      -0.997      -0.559\n",
       "sigma2      1.026e+05   1.06e+04      9.727      0.000    8.19e+04    1.23e+05\n",
       "===================================================================================\n",
       "Ljung-Box (L1) (Q):                   0.01   Jarque-Bera (JB):                53.62\n",
       "Prob(Q):                              0.91   Prob(JB):                         0.00\n",
       "Heteroskedasticity (H):               2.39   Skew:                            -1.04\n",
       "Prob(H) (two-sided):                  0.01   Kurtosis:                         5.60\n",
       "===================================================================================\n",
       "\n",
       "Warnings:\n",
       "[1] Covariance matrix calculated using the outer product of gradients (complex-step).\n",
       "\"\"\""
      ]
     },
     "execution_count": 32,
     "metadata": {},
     "output_type": "execute_result"
    }
   ],
   "source": [
    "trafficarima.summary()\n",
    "# Model Built is Seasonal Model\n",
    "# SARIMAX (5,0,0)[1,0,1][7]"
   ]
  },
  {
   "cell_type": "code",
   "execution_count": 33,
   "id": "e6a1ff66",
   "metadata": {},
   "outputs": [],
   "source": [
    "# Ljung Box Test for Residuals \n",
    "# Null -H0 - Model does not show lack of fit (or in simple terms—\n",
    "# the model is just fine). \n",
    "# Alt - Ha, is just that the model does show a lack of fit. \n",
    "\n",
    "# p-value less than 0.05, Reject Null\n",
    "# p-value greater than 0.05, Fail to Reject Null (Accept Null)\n",
    "\n",
    "# Since Prob(Q): 0.69 is greater than 0.05, Fail to Reject Null\n",
    "\n",
    "# KPSS Test of Statinarity and Ljung Box Test for Model Fit - p-value\n",
    "# must be greater than 0.05 inorder to Fail to Reject Null Hypothesis"
   ]
  },
  {
   "cell_type": "code",
   "execution_count": 34,
   "id": "288ad67b",
   "metadata": {},
   "outputs": [],
   "source": [
    "trafficpredict=pd.DataFrame(trafficarima.predict(n_periods=30))"
   ]
  },
  {
   "cell_type": "code",
   "execution_count": 35,
   "id": "511de78d",
   "metadata": {},
   "outputs": [],
   "source": [
    "index_of_fc = pd.date_range(dailytrafficdiff.index[-1], \n",
    "                            periods = 30, freq='D')\n"
   ]
  },
  {
   "cell_type": "code",
   "execution_count": 36,
   "id": "cf91722a",
   "metadata": {},
   "outputs": [],
   "source": [
    "trafficpredict.index=index_of_fc # this is the prediction for next 30 days"
   ]
  },
  {
   "cell_type": "code",
   "execution_count": 37,
   "id": "6dbafd0b",
   "metadata": {},
   "outputs": [
    {
     "data": {
      "text/plain": [
       "<AxesSubplot:>"
      ]
     },
     "execution_count": 37,
     "metadata": {},
     "output_type": "execute_result"
    },
    {
     "data": {
      "image/png": "[encoded data removed]",
      "text/plain": [
       "<Figure size 432x288 with 1 Axes>"
      ]
     },
     "metadata": {
      "needs_background": "light"
     },
     "output_type": "display_data"
    }
   ],
   "source": [
    "trafficpredict[0].plot(kind=\"line\") # this is the forecast plot for next 30days ."
   ]
  },
  {
   "cell_type": "code",
   "execution_count": 38,
   "id": "800d35dc",
   "metadata": {},
   "outputs": [
    {
     "data": {
      "image/png": "[encoded data removed]",
      "text/plain": [
       "<Figure size 432x288 with 1 Axes>"
      ]
     },
     "metadata": {
      "needs_background": "light"
     },
     "output_type": "display_data"
    }
   ],
   "source": [
    "plt.plot(dailytrafficdiff,label=\"Training\")\n",
    "plt.plot(trafficpredict,label=\"Forecast\")\n",
    "plt.legend(loc=\"upper left\")\n",
    "plt.show()"
   ]
  },
  {
   "cell_type": "code",
   "execution_count": 39,
   "id": "02e50002",
   "metadata": {},
   "outputs": [
    {
     "name": "stderr",
     "output_type": "stream",
     "text": [
      "C:\\ProgramData\\Anaconda3\\lib\\site-packages\\statsmodels\\graphics\\gofplots.py:993: UserWarning: marker is redundantly defined by the 'marker' keyword argument and the fmt string \"bo\" (-> marker='o'). The keyword argument will take precedence.\n",
      "  ax.plot(x, y, fmt, **plot_style)\n"
     ]
    },
    {
     "data": {
      "image/png": "[encoded data removed]",
      "text/plain": [
       "<Figure size 432x288 with 4 Axes>"
      ]
     },
     "execution_count": 39,
     "metadata": {},
     "output_type": "execute_result"
    },
    {
     "data": {
      "image/png": "[encoded data removed]",
      "text/plain": [
       "<Figure size 432x288 with 4 Axes>"
      ]
     },
     "metadata": {
      "needs_background": "light"
     },
     "output_type": "display_data"
    }
   ],
   "source": [
    "trafficarima.plot_diagnostics()"
   ]
  },
  {
   "cell_type": "markdown",
   "id": "18452acb",
   "metadata": {},
   "source": [
    "# Multivariate Analysis"
   ]
  },
  {
   "cell_type": "code",
   "execution_count": 40,
   "id": "5d084f69",
   "metadata": {},
   "outputs": [],
   "source": [
    "dailytraffic=dailytraffic.reset_index()"
   ]
  },
  {
   "cell_type": "code",
   "execution_count": 41,
   "id": "a2725906",
   "metadata": {},
   "outputs": [
    {
     "data": {
      "text/plain": [
       "TIMESTAMP       datetime64[ns]\n",
       "vehicleCount             int64\n",
       "dtype: object"
      ]
     },
     "execution_count": 41,
     "metadata": {},
     "output_type": "execute_result"
    }
   ],
   "source": [
    "dailytraffic.dtypes"
   ]
  },
  {
   "cell_type": "code",
   "execution_count": 42,
   "id": "7643688d",
   "metadata": {},
   "outputs": [],
   "source": [
    "dailytraffic['weekday']=dailytraffic.TIMESTAMP.dt.weekday\n",
    "# Monday (0)  to Sunday (6)     # from monday it is taking , so monday (0) to sunday (6)"
   ]
  },
  {
   "cell_type": "code",
   "execution_count": 43,
   "id": "737c2c2f",
   "metadata": {},
   "outputs": [
    {
     "name": "stderr",
     "output_type": "stream",
     "text": [
      "C:\\Users\\ADMIN\\AppData\\Local\\Temp/ipykernel_2156/138360413.py:1: FutureWarning: Series.dt.weekofyear and Series.dt.week have been deprecated.  Please use Series.dt.isocalendar().week instead.\n",
      "  dailytraffic['weeknumber']=dailytraffic.TIMESTAMP.dt.weekofyear\n"
     ]
    }
   ],
   "source": [
    "dailytraffic['weeknumber']=dailytraffic.TIMESTAMP.dt.weekofyear"
   ]
  },
  {
   "cell_type": "code",
   "execution_count": 44,
   "id": "ea55155c",
   "metadata": {},
   "outputs": [],
   "source": [
    "dailytraffic['month']=dailytraffic.TIMESTAMP.dt.month"
   ]
  },
  {
   "cell_type": "code",
   "execution_count": 45,
   "id": "d9fe5fc3",
   "metadata": {},
   "outputs": [],
   "source": [
    "dailytraffic['monthstart']=dailytraffic.TIMESTAMP.dt.is_month_start"
   ]
  },
  {
   "cell_type": "code",
   "execution_count": 46,
   "id": "6b250022",
   "metadata": {},
   "outputs": [],
   "source": [
    "dailytraffic['monthend']=dailytraffic.TIMESTAMP.dt.is_month_end"
   ]
  },
  {
   "cell_type": "code",
   "execution_count": 47,
   "id": "b9bc14f5",
   "metadata": {},
   "outputs": [],
   "source": [
    "dailytraffic['quarter']=dailytraffic.TIMESTAMP.dt.quarter"
   ]
  },
  {
   "cell_type": "code",
   "execution_count": 48,
   "id": "b6aa02d8",
   "metadata": {},
   "outputs": [
    {
     "data": {
      "text/html": [
       "<div>\n",
       "<style scoped>\n",
       "    .dataframe tbody tr th:only-of-type {\n",
       "        vertical-align: middle;\n",
       "    }\n",
       "\n",
       "    .dataframe tbody tr th {\n",
       "        vertical-align: top;\n",
       "    }\n",
       "\n",
       "    .dataframe thead th {\n",
       "        text-align: right;\n",
       "    }\n",
       "</style>\n",
       "<table border=\"1\" class=\"dataframe\">\n",
       "  <thead>\n",
       "    <tr style=\"text-align: right;\">\n",
       "      <th></th>\n",
       "      <th>TIMESTAMP</th>\n",
       "      <th>vehicleCount</th>\n",
       "      <th>weekday</th>\n",
       "      <th>weeknumber</th>\n",
       "      <th>month</th>\n",
       "      <th>monthstart</th>\n",
       "      <th>monthend</th>\n",
       "      <th>quarter</th>\n",
       "    </tr>\n",
       "  </thead>\n",
       "  <tbody>\n",
       "    <tr>\n",
       "      <th>0</th>\n",
       "      <td>2014-02-13</td>\n",
       "      <td>625</td>\n",
       "      <td>3</td>\n",
       "      <td>7</td>\n",
       "      <td>2</td>\n",
       "      <td>False</td>\n",
       "      <td>False</td>\n",
       "      <td>1</td>\n",
       "    </tr>\n",
       "    <tr>\n",
       "      <th>1</th>\n",
       "      <td>2014-02-14</td>\n",
       "      <td>1390</td>\n",
       "      <td>4</td>\n",
       "      <td>7</td>\n",
       "      <td>2</td>\n",
       "      <td>False</td>\n",
       "      <td>False</td>\n",
       "      <td>1</td>\n",
       "    </tr>\n",
       "    <tr>\n",
       "      <th>2</th>\n",
       "      <td>2014-02-15</td>\n",
       "      <td>501</td>\n",
       "      <td>5</td>\n",
       "      <td>7</td>\n",
       "      <td>2</td>\n",
       "      <td>False</td>\n",
       "      <td>False</td>\n",
       "      <td>1</td>\n",
       "    </tr>\n",
       "    <tr>\n",
       "      <th>3</th>\n",
       "      <td>2014-02-16</td>\n",
       "      <td>440</td>\n",
       "      <td>6</td>\n",
       "      <td>7</td>\n",
       "      <td>2</td>\n",
       "      <td>False</td>\n",
       "      <td>False</td>\n",
       "      <td>1</td>\n",
       "    </tr>\n",
       "    <tr>\n",
       "      <th>4</th>\n",
       "      <td>2014-02-17</td>\n",
       "      <td>1492</td>\n",
       "      <td>0</td>\n",
       "      <td>8</td>\n",
       "      <td>2</td>\n",
       "      <td>False</td>\n",
       "      <td>False</td>\n",
       "      <td>1</td>\n",
       "    </tr>\n",
       "  </tbody>\n",
       "</table>\n",
       "</div>"
      ],
      "text/plain": [
       "   TIMESTAMP  vehicleCount  weekday  weeknumber  month  monthstart  monthend  \\\n",
       "0 2014-02-13           625        3           7      2       False     False   \n",
       "1 2014-02-14          1390        4           7      2       False     False   \n",
       "2 2014-02-15           501        5           7      2       False     False   \n",
       "3 2014-02-16           440        6           7      2       False     False   \n",
       "4 2014-02-17          1492        0           8      2       False     False   \n",
       "\n",
       "   quarter  \n",
       "0        1  \n",
       "1        1  \n",
       "2        1  \n",
       "3        1  \n",
       "4        1  "
      ]
     },
     "execution_count": 48,
     "metadata": {},
     "output_type": "execute_result"
    }
   ],
   "source": [
    "dailytraffic.head()"
   ]
  },
  {
   "cell_type": "code",
   "execution_count": 49,
   "id": "771f96eb",
   "metadata": {},
   "outputs": [
    {
     "data": {
      "text/html": [
       "<div>\n",
       "<style scoped>\n",
       "    .dataframe tbody tr th:only-of-type {\n",
       "        vertical-align: middle;\n",
       "    }\n",
       "\n",
       "    .dataframe tbody tr th {\n",
       "        vertical-align: top;\n",
       "    }\n",
       "\n",
       "    .dataframe thead th {\n",
       "        text-align: right;\n",
       "    }\n",
       "</style>\n",
       "<table border=\"1\" class=\"dataframe\">\n",
       "  <thead>\n",
       "    <tr style=\"text-align: right;\">\n",
       "      <th></th>\n",
       "      <th>avgMeasuredTime</th>\n",
       "      <th>avgSpeed</th>\n",
       "      <th>medianMeasuredTime</th>\n",
       "    </tr>\n",
       "  </thead>\n",
       "  <tbody>\n",
       "    <tr>\n",
       "      <th>avgMeasuredTime</th>\n",
       "      <td>1.000000</td>\n",
       "      <td>-0.845715</td>\n",
       "      <td>1.000000</td>\n",
       "    </tr>\n",
       "    <tr>\n",
       "      <th>avgSpeed</th>\n",
       "      <td>-0.845715</td>\n",
       "      <td>1.000000</td>\n",
       "      <td>-0.845715</td>\n",
       "    </tr>\n",
       "    <tr>\n",
       "      <th>medianMeasuredTime</th>\n",
       "      <td>1.000000</td>\n",
       "      <td>-0.845715</td>\n",
       "      <td>1.000000</td>\n",
       "    </tr>\n",
       "  </tbody>\n",
       "</table>\n",
       "</div>"
      ],
      "text/plain": [
       "                    avgMeasuredTime  avgSpeed  medianMeasuredTime\n",
       "avgMeasuredTime            1.000000 -0.845715            1.000000\n",
       "avgSpeed                  -0.845715  1.000000           -0.845715\n",
       "medianMeasuredTime         1.000000 -0.845715            1.000000"
      ]
     },
     "execution_count": 49,
     "metadata": {},
     "output_type": "execute_result"
    }
   ],
   "source": [
    "trafficdata[['avgMeasuredTime','avgSpeed','medianMeasuredTime']].corr()"
   ]
  },
  {
   "cell_type": "code",
   "execution_count": 50,
   "id": "06594b25",
   "metadata": {},
   "outputs": [
    {
     "name": "stderr",
     "output_type": "stream",
     "text": [
      "C:\\ProgramData\\Anaconda3\\lib\\site-packages\\pandas\\core\\arraylike.py:364: RuntimeWarning: divide by zero encountered in log\n",
      "  result = getattr(ufunc, method)(*inputs, **kwargs)\n"
     ]
    },
    {
     "data": {
      "text/plain": [
       "<AxesSubplot:>"
      ]
     },
     "execution_count": 50,
     "metadata": {},
     "output_type": "execute_result"
    },
    {
     "data": {
      "image/png": "[encoded data removed]",
      "text/plain": [
       "<Figure size 432x288 with 1 Axes>"
      ]
     },
     "metadata": {
      "needs_background": "light"
     },
     "output_type": "display_data"
    }
   ],
   "source": [
    "np.log(trafficdata.medianMeasuredTime).plot(kind=\"box\",vert=False)"
   ]
  },
  {
   "cell_type": "code",
   "execution_count": 51,
   "id": "7060a52d",
   "metadata": {},
   "outputs": [
    {
     "data": {
      "text/plain": [
       "<AxesSubplot:>"
      ]
     },
     "execution_count": 51,
     "metadata": {},
     "output_type": "execute_result"
    },
    {
     "data": {
      "image/png": "[encoded data removed]",
      "text/plain": [
       "<Figure size 432x288 with 1 Axes>"
      ]
     },
     "metadata": {
      "needs_background": "light"
     },
     "output_type": "display_data"
    }
   ],
   "source": [
    "trafficdata.avgMeasuredTime.plot(kind=\"box\",vert=False)"
   ]
  },
  {
   "cell_type": "code",
   "execution_count": 52,
   "id": "16571ed1",
   "metadata": {},
   "outputs": [],
   "source": [
    "othercols=trafficdata[['TIMESTAMP','medianMeasuredTime','avgSpeed']] \n",
    "# here avgMeasuredTime & medianMeasuredTime are \n",
    "# very strongly correlated, thats why we choose medianMeasuredTime because median value (it handles the outliers)"
   ]
  },
  {
   "cell_type": "code",
   "execution_count": 53,
   "id": "44d09efe",
   "metadata": {},
   "outputs": [
    {
     "name": "stderr",
     "output_type": "stream",
     "text": [
      "C:\\ProgramData\\Anaconda3\\lib\\site-packages\\pandas\\core\\generic.py:5516: SettingWithCopyWarning: \n",
      "A value is trying to be set on a copy of a slice from a DataFrame.\n",
      "Try using .loc[row_indexer,col_indexer] = value instead\n",
      "\n",
      "See the caveats in the documentation: https://pandas.pydata.org/pandas-docs/stable/user_guide/indexing.html#returning-a-view-versus-a-copy\n",
      "  self[name] = value\n"
     ]
    }
   ],
   "source": [
    "othercols.TIMESTAMP=pd.to_datetime(othercols.TIMESTAMP,errors=\"coerce\")"
   ]
  },
  {
   "cell_type": "code",
   "execution_count": 54,
   "id": "6a5ecc07",
   "metadata": {},
   "outputs": [],
   "source": [
    "dailyavgSpeed=othercols.resample('d',on='TIMESTAMP').mean()"
   ]
  },
  {
   "cell_type": "code",
   "execution_count": 55,
   "id": "ad2a5c46",
   "metadata": {},
   "outputs": [],
   "source": [
    "dailymedianMeasuredTime=othercols.resample('d',on='TIMESTAMP').median()"
   ]
  },
  {
   "cell_type": "code",
   "execution_count": 56,
   "id": "966689c6",
   "metadata": {},
   "outputs": [
    {
     "data": {
      "text/plain": [
       "Index(['medianMeasuredTime', 'avgSpeed'], dtype='object')"
      ]
     },
     "execution_count": 56,
     "metadata": {},
     "output_type": "execute_result"
    }
   ],
   "source": [
    "dailyavgSpeed.columns"
   ]
  },
  {
   "cell_type": "code",
   "execution_count": 57,
   "id": "85c6916c",
   "metadata": {},
   "outputs": [],
   "source": [
    "dailyavgSpeed=dailyavgSpeed.reset_index()"
   ]
  },
  {
   "cell_type": "code",
   "execution_count": 58,
   "id": "023b266a",
   "metadata": {},
   "outputs": [],
   "source": [
    "dailytraffic=pd.concat([dailytraffic,dailyavgSpeed],axis=1)"
   ]
  },
  {
   "cell_type": "code",
   "execution_count": 59,
   "id": "a65ca57a",
   "metadata": {},
   "outputs": [
    {
     "data": {
      "text/plain": [
       "Index(['TIMESTAMP', 'vehicleCount', 'weekday', 'weeknumber', 'month',\n",
       "       'monthstart', 'monthend', 'quarter', 'TIMESTAMP', 'medianMeasuredTime',\n",
       "       'avgSpeed'],\n",
       "      dtype='object')"
      ]
     },
     "execution_count": 59,
     "metadata": {},
     "output_type": "execute_result"
    }
   ],
   "source": [
    "dailytraffic.columns"
   ]
  },
  {
   "cell_type": "code",
   "execution_count": 60,
   "id": "3dae8d1e",
   "metadata": {},
   "outputs": [],
   "source": [
    "dailytraffic=dailytraffic.drop('TIMESTAMP',axis=1)"
   ]
  },
  {
   "cell_type": "code",
   "execution_count": 61,
   "id": "16cf42fd",
   "metadata": {},
   "outputs": [],
   "source": [
    "dummycols=['weekday', 'weeknumber', 'month', 'monthstart',\n",
    "       'monthend', 'quarter']"
   ]
  },
  {
   "cell_type": "code",
   "execution_count": 62,
   "id": "396bf595",
   "metadata": {},
   "outputs": [],
   "source": [
    "from sklearn.preprocessing import LabelEncoder"
   ]
  },
  {
   "cell_type": "code",
   "execution_count": 63,
   "id": "ce1d917c",
   "metadata": {},
   "outputs": [],
   "source": [
    "for col in dummycols:\n",
    "    dailytraffic[col]=LabelEncoder().fit_transform(dailytraffic[col])"
   ]
  },
  {
   "cell_type": "code",
   "execution_count": 64,
   "id": "78a815e3",
   "metadata": {},
   "outputs": [],
   "source": [
    "y=dailytraffic.vehicleCount\n",
    "X=dailytraffic.drop('vehicleCount',axis=1)"
   ]
  },
  {
   "cell_type": "markdown",
   "id": "06c6a776",
   "metadata": {},
   "source": [
    "# Model Building"
   ]
  },
  {
   "cell_type": "markdown",
   "id": "da1aed3f",
   "metadata": {},
   "source": [
    "# Linear Regression"
   ]
  },
  {
   "cell_type": "code",
   "execution_count": 65,
   "id": "5948d8b5",
   "metadata": {},
   "outputs": [],
   "source": [
    "from sklearn.linear_model import LinearRegression"
   ]
  },
  {
   "cell_type": "code",
   "execution_count": 66,
   "id": "37bf6fb0",
   "metadata": {},
   "outputs": [],
   "source": [
    "reg=LinearRegression().fit(X,y)"
   ]
  },
  {
   "cell_type": "code",
   "execution_count": 67,
   "id": "9a07437e",
   "metadata": {},
   "outputs": [
    {
     "data": {
      "text/plain": [
       "0.7830088813250766"
      ]
     },
     "execution_count": 67,
     "metadata": {},
     "output_type": "execute_result"
    }
   ],
   "source": [
    "reg.score(X,y)"
   ]
  },
  {
   "cell_type": "code",
   "execution_count": 68,
   "id": "69b92428",
   "metadata": {},
   "outputs": [],
   "source": [
    "regpredict=reg.predict(X)"
   ]
  },
  {
   "cell_type": "code",
   "execution_count": 69,
   "id": "8784e230",
   "metadata": {},
   "outputs": [],
   "source": [
    "regresidual=y-regpredict"
   ]
  },
  {
   "cell_type": "code",
   "execution_count": 70,
   "id": "9d802d9e",
   "metadata": {},
   "outputs": [
    {
     "data": {
      "text/plain": [
       "247.44224436950566"
      ]
     },
     "execution_count": 70,
     "metadata": {},
     "output_type": "execute_result"
    }
   ],
   "source": [
    "np.sqrt(np.mean(regresidual**2)) # RMSE 247.4422"
   ]
  },
  {
   "cell_type": "markdown",
   "id": "63109e0e",
   "metadata": {},
   "source": [
    "# Decision Tree"
   ]
  },
  {
   "cell_type": "code",
   "execution_count": 71,
   "id": "665d1d95",
   "metadata": {},
   "outputs": [],
   "source": [
    "from sklearn.tree import DecisionTreeRegressor"
   ]
  },
  {
   "cell_type": "code",
   "execution_count": 72,
   "id": "cdd32d8d",
   "metadata": {},
   "outputs": [],
   "source": [
    "tree=DecisionTreeRegressor(max_depth=2).fit(X,y)"
   ]
  },
  {
   "cell_type": "code",
   "execution_count": 73,
   "id": "395646d3",
   "metadata": {},
   "outputs": [
    {
     "data": {
      "text/plain": [
       "0.9009978828320523"
      ]
     },
     "execution_count": 73,
     "metadata": {},
     "output_type": "execute_result"
    }
   ],
   "source": [
    "tree.score(X,y)"
   ]
  },
  {
   "cell_type": "code",
   "execution_count": 74,
   "id": "10c22b2c",
   "metadata": {},
   "outputs": [],
   "source": [
    "treepredict=tree.predict(X)"
   ]
  },
  {
   "cell_type": "code",
   "execution_count": 75,
   "id": "f6fd0824",
   "metadata": {},
   "outputs": [],
   "source": [
    "treeresid=y-treepredict"
   ]
  },
  {
   "cell_type": "code",
   "execution_count": 76,
   "id": "094c1189",
   "metadata": {},
   "outputs": [
    {
     "data": {
      "text/plain": [
       "167.13796414231425"
      ]
     },
     "execution_count": 76,
     "metadata": {},
     "output_type": "execute_result"
    }
   ],
   "source": [
    "np.sqrt(np.mean(treeresid**2)) # RMSE 167.1379"
   ]
  },
  {
   "cell_type": "markdown",
   "id": "507d4fef",
   "metadata": {},
   "source": [
    "# Cross Validation"
   ]
  },
  {
   "cell_type": "code",
   "execution_count": 77,
   "id": "38fef21d",
   "metadata": {},
   "outputs": [],
   "source": [
    "from sklearn.model_selection import cross_val_score"
   ]
  },
  {
   "cell_type": "code",
   "execution_count": 78,
   "id": "57fe27c7",
   "metadata": {},
   "outputs": [
    {
     "data": {
      "text/plain": [
       "array([0.70558849, 0.73894526, 0.68171175, 0.74290634, 0.68598686])"
      ]
     },
     "execution_count": 78,
     "metadata": {},
     "output_type": "execute_result"
    }
   ],
   "source": [
    "cross_val_score(reg,X,y,cv=5)"
   ]
  },
  {
   "cell_type": "code",
   "execution_count": 79,
   "id": "547ece03",
   "metadata": {},
   "outputs": [
    {
     "data": {
      "text/plain": [
       "0.7110277399999999"
      ]
     },
     "execution_count": 79,
     "metadata": {},
     "output_type": "execute_result"
    }
   ],
   "source": [
    "np.mean([0.70558849, 0.73894526, 0.68171175, 0.74290634, 0.68598686])"
   ]
  },
  {
   "cell_type": "code",
   "execution_count": 80,
   "id": "481c3d85",
   "metadata": {},
   "outputs": [
    {
     "data": {
      "text/plain": [
       "array([0.92826011, 0.71328723, 0.76364402, 0.93932502, 0.67386231])"
      ]
     },
     "execution_count": 80,
     "metadata": {},
     "output_type": "execute_result"
    }
   ],
   "source": [
    "cross_val_score(tree,X,y)"
   ]
  },
  {
   "cell_type": "code",
   "execution_count": 81,
   "id": "77e53e20",
   "metadata": {},
   "outputs": [
    {
     "data": {
      "text/plain": [
       "0.8036757379999999"
      ]
     },
     "execution_count": 81,
     "metadata": {},
     "output_type": "execute_result"
    }
   ],
   "source": [
    "np.mean([0.92826011, 0.71328723, 0.76364402, 0.93932502, 0.67386231])"
   ]
  },
  {
   "cell_type": "markdown",
   "id": "3ec3406b",
   "metadata": {},
   "source": [
    "# Random Forest"
   ]
  },
  {
   "cell_type": "code",
   "execution_count": 82,
   "id": "f2e45065",
   "metadata": {},
   "outputs": [],
   "source": [
    "from sklearn.ensemble import RandomForestRegressor"
   ]
  },
  {
   "cell_type": "code",
   "execution_count": 83,
   "id": "127581e2",
   "metadata": {},
   "outputs": [],
   "source": [
    "RF=RandomForestRegressor(n_estimators=20).fit(X,y)"
   ]
  },
  {
   "cell_type": "code",
   "execution_count": 84,
   "id": "5a6d67e1",
   "metadata": {},
   "outputs": [
    {
     "data": {
      "text/plain": [
       "0.9719690722766"
      ]
     },
     "execution_count": 84,
     "metadata": {},
     "output_type": "execute_result"
    }
   ],
   "source": [
    "RF.score(X,y)"
   ]
  },
  {
   "cell_type": "code",
   "execution_count": 85,
   "id": "9c9361fc",
   "metadata": {},
   "outputs": [
    {
     "data": {
      "text/plain": [
       "array([0.8885369 , 0.72726059, 0.77217913, 0.9363195 , 0.78334718])"
      ]
     },
     "execution_count": 85,
     "metadata": {},
     "output_type": "execute_result"
    }
   ],
   "source": [
    "cross_val_score(RF,X,y,cv=5)"
   ]
  },
  {
   "cell_type": "code",
   "execution_count": 86,
   "id": "a2934f81",
   "metadata": {},
   "outputs": [
    {
     "data": {
      "text/plain": [
       "0.849330112"
      ]
     },
     "execution_count": 86,
     "metadata": {},
     "output_type": "execute_result"
    }
   ],
   "source": [
    "np.mean([0.90483052, 0.76861274, 0.83218731, 0.94081325, 0.80020674])"
   ]
  },
  {
   "cell_type": "code",
   "execution_count": 87,
   "id": "91a6edaf",
   "metadata": {},
   "outputs": [],
   "source": [
    "RFpredict=RF.predict(X)"
   ]
  },
  {
   "cell_type": "code",
   "execution_count": 88,
   "id": "8222d62e",
   "metadata": {},
   "outputs": [],
   "source": [
    "RFresid=y-RFpredict"
   ]
  },
  {
   "cell_type": "code",
   "execution_count": 89,
   "id": "66a19e91",
   "metadata": {},
   "outputs": [
    {
     "data": {
      "text/plain": [
       "88.93477334685464"
      ]
     },
     "execution_count": 89,
     "metadata": {},
     "output_type": "execute_result"
    }
   ],
   "source": [
    "np.sqrt(np.mean(RFresid**2))# RMSE 84.9219"
   ]
  },
  {
   "cell_type": "markdown",
   "id": "2630a815",
   "metadata": {},
   "source": [
    "# Gradient Boosting"
   ]
  },
  {
   "cell_type": "code",
   "execution_count": 90,
   "id": "1cd6df35",
   "metadata": {},
   "outputs": [],
   "source": [
    "from sklearn.ensemble import GradientBoostingRegressor"
   ]
  },
  {
   "cell_type": "code",
   "execution_count": 91,
   "id": "fce6925e",
   "metadata": {},
   "outputs": [],
   "source": [
    "gbm=GradientBoostingRegressor(n_estimators=20).fit(X,y)"
   ]
  },
  {
   "cell_type": "code",
   "execution_count": 92,
   "id": "2d030065",
   "metadata": {},
   "outputs": [
    {
     "data": {
      "text/plain": [
       "0.9447150541281616"
      ]
     },
     "execution_count": 92,
     "metadata": {},
     "output_type": "execute_result"
    }
   ],
   "source": [
    "gbm.score(X,y)"
   ]
  },
  {
   "cell_type": "code",
   "execution_count": 93,
   "id": "8a22f23c",
   "metadata": {},
   "outputs": [
    {
     "data": {
      "text/plain": [
       "array([0.94609441, 0.73292929, 0.81230975, 0.93643793, 0.75767039])"
      ]
     },
     "execution_count": 93,
     "metadata": {},
     "output_type": "execute_result"
    }
   ],
   "source": [
    "cross_val_score(gbm,X,y,cv=5)"
   ]
  },
  {
   "cell_type": "code",
   "execution_count": 94,
   "id": "3c193e07",
   "metadata": {},
   "outputs": [
    {
     "data": {
      "text/plain": [
       "0.8381919840000001"
      ]
     },
     "execution_count": 94,
     "metadata": {},
     "output_type": "execute_result"
    }
   ],
   "source": [
    "np.mean([0.93607804, 0.7349452 , 0.8122595 , 0.93643793, 0.77123925])"
   ]
  },
  {
   "cell_type": "code",
   "execution_count": 95,
   "id": "b65d21f8",
   "metadata": {},
   "outputs": [],
   "source": [
    "gbmpredict=gbm.predict(X)"
   ]
  },
  {
   "cell_type": "code",
   "execution_count": 96,
   "id": "2368ba06",
   "metadata": {},
   "outputs": [],
   "source": [
    "gbmresid=y-gbmpredict"
   ]
  },
  {
   "cell_type": "code",
   "execution_count": 97,
   "id": "aaa94330",
   "metadata": {},
   "outputs": [
    {
     "data": {
      "text/plain": [
       "124.89823786743749"
      ]
     },
     "execution_count": 97,
     "metadata": {},
     "output_type": "execute_result"
    }
   ],
   "source": [
    "np.sqrt(np.mean(gbmresid**2))"
   ]
  }
 ],
 "metadata": {
  "kernelspec": {
   "display_name": "Python 3 (ipykernel)",
   "language": "python",
   "name": "python3"
  },
  "language_info": {
   "codemirror_mode": {
    "name": "ipython",
    "version": 3
   },
   "file_extension": ".py",
   "mimetype": "text/x-python",
   "name": "python",
   "nbconvert_exporter": "python",
   "pygments_lexer": "ipython3",
   "version": "3.9.7"
  }
 },
 "nbformat": 4,
 "nbformat_minor": 5
}
